{
 "cells": [
  {
   "cell_type": "markdown",
   "metadata": {},
   "source": [
    "Experimental Design"
   ]
  },
  {
   "cell_type": "markdown",
   "metadata": {},
   "source": [
    "1) `Analysis that highlights your experimental hypothesis.`\n",
    "What trends do you observe in the observational data? What specific hypothesis would you like to test?"
   ]
  },
  {
   "cell_type": "markdown",
   "metadata": {},
   "source": [
    "Trends in observational data: \n",
    "\n",
    "That UFO sighting reporting is pretty ubiquitous. There are no clear patterns when the location data is plotting on a map. \n",
    "https://www.mapbox.com/studio/datasets/miller78/cjrd5ajmo2a1k33n5qo5fs57h/edit/\n",
    "\n",
    "The most common shape reported was light during UFO sighting, near 17,000 reports over a 80 year period. Without any additional information from the UFO sighting reports of \"light\", this term is so board there a so many possibilities it coudld be:\n",
    "flicker of the moon behind a cloud in the night side\n",
    "shooting star\n",
    "airplane \n",
    "statelite \n",
    "star \n",
    "fireworks\n",
    "rocket\n",
    "search light beam\n",
    "northern lights \n",
    "\n",
    "\n",
    "Hypothesis: \n",
    "Since \"light\" is the most basic shape characteristic during UFO sighting across the dataset. How has the porportion of \"light\" to other UFO shapes changed over time? That \"Light\" has decreased in porportion to the rest of the UFO shapes over time. \n",
    "\n",
    "Null hypothesis: There is not a significant decrease in the porportion of \"Light\" to the rest of the UFO shapes. \n",
    "\n",
    "Alternative hypothesis: There is a significant decrease in the porportion of \"Light\" compared to the rest of the UFO shapes. "
   ]
  },
  {
   "cell_type": "markdown",
   "metadata": {},
   "source": [
    "2) `A rollout plan showing how you would implement and rollout the experiment`\n",
    "How would the data be collected? \n",
    "The data would be collected from the national UFO database. Here is the data reporting form from MUFON Sighting reports. \n",
    "https://mufoncms.com/cgi-bin/report_handler.pl\n",
    "Voluntary reporting of UFO by website is the most convenient way to collect data. To constrain biasing in the data, multiple reports per location to verify validity of the reports is needed during a given UFO phenomenon. \n",
    "\n",
    "\"I am often asked by friends and colleagues, “Why don’t astronomers see UFOs?” The fact is that they do. In 1977, Peter Sturrock, a professor of space science and astrophysics at Stanford University, mailed 2,611 questionnaires about UFO sightings to members of the American Astronomical Society. He received 1,356 responses from which 62 astronomers – 4.6 percent – reported witnessing or recording inexplicable aerial phenomena. This rate is similar to the approximately 5 percent of UFO sightings that are never explained.\"https://cosmosmagazine.com/space/why-we-should-take-ufo-sightings-seriously\n",
    "\n",
    "\n",
    "How many samples? \n",
    "Number of samples: 1022 collected over a year\n",
    "https://www.evanmiller.org/ab-testing/sample-size.html#!20;80;5;5;0\n",
    "\n",
    "https://www.ctpost.com/local/article/More-100-UFOs-sightings-reported-in-CT-last-year-13526150.php\n",
    "More then 100 UFO sighting alone in CT last year. \n",
    "\n",
    "https://www.statista.com/chart/8452/ufo-sightings-are-at-record-heights/\n",
    "Roughly 1000 reports per year. \n",
    "\n",
    "\n",
    "Why is this the best way to do it? \n",
    "Sample size of 1022 of UFO sighting enteries over a year. This is an increadibly small fraction of the entire United States population. \n",
    "\n",
    "What will the resulting dataset look like?\n",
    "The dataset would contain information on location (lat/long) corridinates, city/state, description (text with key words), category of shape, time observed, relative distance from observer, condition of the sky, date (day, month, year). \n",
    "The dataset would have a monthly calulation  of porportion of shapes compared to the total count of observations. "
   ]
  },
  {
   "cell_type": "markdown",
   "metadata": {},
   "source": [
    "3) `An evaluation plan showing what constitutes success in this experiment`\n",
    "Once the data from (2) is collected, what analysis will be done? \n",
    "The analysis that will be performed is t-test on the shape counts and porportions by monthly over the year. This information should provide an insight into what shapes of UFO are most commonly trending (or increasing). Why it is increasing or decrease could depend on a number of factors:\n",
    "\n",
    "More awareness in UFO - could led to better description of shape --> thus leading to a decrease in the number of \"Light\" showing up portportionally to the rest of the UFO shapes. \n",
    "\n",
    "Less of the U.S. population is actually observing the night sky --> more cell phone use (has reportedly) led to less observational awareness by the general public. Thus would have a decrease in the number of UFO sighting and the \"Light\" UFO shape may remain the same porportionally since the 1950's. \n",
    "\n",
    "How will the p-value be interpreted?\n",
    "If the p-value is less than 0.05 then we would reject the Null hypothesis. Stating that porportion of \"Light\" has decreased noticably compared to the rest of the UFO shapes is significant. \n",
    "If the p-value is greater than 0.05 then we would accept the Null hypothesis. Stating that the porportion of \"Light\" UFO shape to other shapes has not change significantly. \n"
   ]
  },
  {
   "cell_type": "code",
   "execution_count": null,
   "metadata": {},
   "outputs": [],
   "source": []
  }
 ],
 "metadata": {
  "kernelspec": {
   "display_name": "Python 3",
   "language": "python",
   "name": "python3"
  },
  "language_info": {
   "codemirror_mode": {
    "name": "ipython",
    "version": 3
   },
   "file_extension": ".py",
   "mimetype": "text/x-python",
   "name": "python",
   "nbconvert_exporter": "python",
   "pygments_lexer": "ipython3",
   "version": "3.6.5"
  }
 },
 "nbformat": 4,
 "nbformat_minor": 2
}
